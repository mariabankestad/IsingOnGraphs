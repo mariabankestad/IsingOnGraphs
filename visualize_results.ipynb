{
 "cells": [
  {
   "cell_type": "code",
   "execution_count": 18,
   "metadata": {},
   "outputs": [],
   "source": [
    "from train_explainer import get_ising_explainer, get_model, get_dataset, load_config\n",
    "import matplotlib.pyplot as plt\n",
    "import torch\n",
    "device = \"cpu\"\n",
    "config_path = \"config/config_mutag_explainer.yaml\"\n",
    "config = load_config(config_path)\n",
    "train_loader, test_loader = get_dataset(config)\n",
    "model =get_model(config).to(device)\n",
    "explainer,_,_ = get_ising_explainer(config)\n",
    "explainer.red = 1\n",
    "explainer = explainer.to(device)"
   ]
  },
  {
   "cell_type": "code",
   "execution_count": 21,
   "metadata": {},
   "outputs": [],
   "source": [
    "# We select one of the molecules in the dataset.\n",
    "data, exp = test_loader[15]\n",
    "batch = torch.zeros(data.x.size(0), dtype = torch.int64).to(device)\n",
    "\n",
    "#Lets get the magnetic field and sample an explainibility mask.\n",
    "mask, h = explainer(data.x, data.edge_index, data.edge_attr,batch, model,data.color, y = data.y,train = False, n_iter = 10)\n"
   ]
  },
  {
   "cell_type": "code",
   "execution_count": 17,
   "metadata": {},
   "outputs": [
    {
     "data": {
      "text/plain": [
       "tensor([1])"
      ]
     },
     "execution_count": 17,
     "metadata": {},
     "output_type": "execute_result"
    }
   ],
   "source": [
    "#Now we plot the results.\n",
    "\n"
   ]
  }
 ],
 "metadata": {
  "kernelspec": {
   "display_name": ".venv",
   "language": "python",
   "name": "python3"
  },
  "language_info": {
   "codemirror_mode": {
    "name": "ipython",
    "version": 3
   },
   "file_extension": ".py",
   "mimetype": "text/x-python",
   "name": "python",
   "nbconvert_exporter": "python",
   "pygments_lexer": "ipython3",
   "version": "3.9.13"
  }
 },
 "nbformat": 4,
 "nbformat_minor": 2
}
